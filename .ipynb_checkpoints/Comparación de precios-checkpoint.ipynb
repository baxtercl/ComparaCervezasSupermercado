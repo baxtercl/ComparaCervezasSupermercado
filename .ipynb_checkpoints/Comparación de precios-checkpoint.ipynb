{
 "cells": [
  {
   "cell_type": "markdown",
   "metadata": {},
   "source": [
    "# Comparación de precios de cervezas"
   ]
  },
  {
   "cell_type": "code",
   "execution_count": 1,
   "metadata": {},
   "outputs": [
    {
     "name": "stdout",
     "output_type": "stream",
     "text": [
      "¿Qué marca de cerveza estás buscando? Corona\n",
      "La cerveza buscada es: corona\n",
      "\n",
      "Precios para la cerveza marca \"corona\" en Supermercado Tottus\n",
      "\n",
      "                                         Brand Description  Price\n",
      "91                pack cerveza corona 12x355cc              11799\n",
      "120                      cerveza corona 710 cc               1999\n",
      "134       pack cerveza corona 18x355cc botella              17569\n",
      "188  pack cerveza corona 6x355cc light botella               6290\n",
      "\n",
      "Precios para la cerveza marca \"corona\" en Supermercado Lider\n",
      "\n",
      "      Brand                            Description  Price\n",
      "7    corona                     Pack Cerveza Lager   4190\n",
      "15   corona                     Pack Cerveza Lager  11690\n",
      "44   corona                     Pack Cerveza Lager   3990\n",
      "97   corona                     Pack Cerveza Lager   6190\n",
      "154  corona  Pack Cervezas (10 Latas de 355cc c/u)   6390\n"
     ]
    }
   ],
   "source": [
    "import json\n",
    "import pandas as pd\n",
    "from pandas import json_normalize\n",
    "\n",
    "# El input se deja como string y además, se pasa todo a minúscula\n",
    "cerveza = str(input('¿Qué marca de cerveza estás buscando? ')).lower()\n",
    "print('La cerveza buscada es: {}\\n'.format(cerveza))\n",
    "\n",
    "\n",
    "#--------------------------------------------\n",
    "with open('cervezas-tottus.json') as f:\n",
    "    d = json.load(f)\n",
    "\n",
    "dataTottus = json_normalize(d['cervezas'])\n",
    "colsTottus = ['Brand','Description','Price']\n",
    "rowsTottus = []\n",
    "for i in range(len(dataTottus)):\n",
    "    rowsTottus.append([dataTottus['name'][i], dataTottus['description'][i], dataTottus['regularPrice'][i]])\n",
    "\n",
    "df_Tottus = pd.DataFrame(rowsTottus, columns=colsTottus)\n",
    "df_Tottus['Brand'] = df_Tottus['Brand'].str.lower() # Se transforma todo el texto de la columna en minúscula, para poder realizar comparación\n",
    "\n",
    "print('Precios para la cerveza marca \"{}\" en Supermercado Tottus\\n'.format(cerveza))\n",
    "print(df_Tottus[df_Tottus['Brand'].str.contains(cerveza)])\n",
    "#--------------------------------------------\n",
    "with open('cervezas-lider.json') as f:\n",
    "    d = json.load(f)\n",
    "\n",
    "dataLider = json_normalize(d['cervezas'])\n",
    "colsLider = ['Brand','Description','Price']\n",
    "rowsLider = []\n",
    "for i in range(len(dataLider)):\n",
    "    rowsLider.append([dataLider['name'][i], dataLider['description'][i], dataLider['regularPrice'][i]])\n",
    "\n",
    "df_Lider = pd.DataFrame(rowsLider, columns=colsLider)\n",
    "df_Lider['Brand'] = df_Lider['Brand'].str.lower()\n",
    "\n",
    "print('\\nPrecios para la cerveza marca \"{}\" en Supermercado Lider\\n'.format(cerveza))\n",
    "print(df_Lider[df_Lider['Brand'].str.contains(cerveza)])\n"
   ]
  },
  {
   "cell_type": "code",
   "execution_count": null,
   "metadata": {},
   "outputs": [],
   "source": []
  }
 ],
 "metadata": {
  "kernelspec": {
   "display_name": "Python 3",
   "language": "python",
   "name": "python3"
  },
  "language_info": {
   "codemirror_mode": {
    "name": "ipython",
    "version": 3
   },
   "file_extension": ".py",
   "mimetype": "text/x-python",
   "name": "python",
   "nbconvert_exporter": "python",
   "pygments_lexer": "ipython3",
   "version": "3.8.5"
  }
 },
 "nbformat": 4,
 "nbformat_minor": 4
}
